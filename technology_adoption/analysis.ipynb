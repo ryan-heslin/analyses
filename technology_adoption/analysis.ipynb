{
  "cells": [
    {
      "cell_type": "raw",
      "metadata": {},
      "source": [
        "---\n",
        "title: Technological Diffusion Analysis\n",
        "date: 'August 10, 2022'\n",
        "freeze: auto\n",
        "format: html\n",
        "execute:\n",
        "  enabled: true\n",
        "---"
      ]
    },
    {
      "cell_type": "code",
      "metadata": {},
      "source": [
        "import requests\n",
        "import re\n",
        "import pandas as pd \n",
        "import numpy as np\n",
        "import sklearn as sk\n",
        "from sklearn.linear_model import LinearRegression\n",
        "from sklearn.preprocessing import MinMaxScaler\n",
        "import matplotlib\n",
        "matplotlib.use('TkAgg')\n",
        "import matplotlib.pyplot as plt\n",
        "from bs4 import BeautifulSoup"
      ],
      "execution_count": null,
      "outputs": []
    },
    {
      "cell_type": "markdown",
      "metadata": {},
      "source": [
        "This dataset comes from the [National Bureau of Economics](https://data.nber.org/data-appendix/w15319/) via [Tidy Tuesdays](https://github.com/rfordatascience/tidytuesday/tree/master/data/2022/2022-07-19). It involves technological \n",
        "diffusion: the spread of technologies away from \n",
        "their inventors as others adopt them. \n",
        "The unit of analysis is an individual country, \n",
        "and variables measure indicators of technology use, such as number of telephone lines \n",
        "or airline kilometers traveled. \n",
        "The authors used their judgment in defining countries over time, such as treating Russia and the Soviet \n",
        "Union as the same. An explanation is [here](http://www.nber.org/papers/w15319). "
      ]
    },
    {
      "cell_type": "code",
      "metadata": {},
      "source": [
        "raw_data = pd.read_csv(\"https://raw.githubusercontent.com/rfordatascience/tidytuesday/master/data/2022/2022-07-19/technology.csv\")\n",
        "raw_data.head()\n",
        "raw_data.shape"
      ],
      "execution_count": null,
      "outputs": []
    },
    {
      "cell_type": "markdown",
      "metadata": {},
      "source": [
        "The data are in long form, with each row pairing a variable with a value and some metadata. There  are almost half a million rows, so efficiency will become a concern."
      ]
    },
    {
      "cell_type": "code",
      "metadata": {},
      "source": [
        "pd.set_option('display.max_columns', 10)\n",
        "raw_data.iloc[0:6, ]"
      ],
      "execution_count": null,
      "outputs": []
    },
    {
      "cell_type": "markdown",
      "metadata": {},
      "source": [
        "Countries have ISO codes instead of names. \n",
        "Let's fix that."
      ]
    },
    {
      "cell_type": "code",
      "metadata": {},
      "source": [
        "raw_html = requests.get(\"https://www.iban.com/country-codes\")\n",
        "parsed_html = BeautifulSoup(raw_html.content, \"html.parser\")\n",
        "codes2countries = dict(zip(parsed_html.select(\"td:nth-child(3)\"), \n",
        "            parsed_html.select(\"td:nth-child(1)\")))\n",
        "\n",
        "codes2countries = {re.match(r\"^<td>([A-Z]{3}).*\", str(code)).group(1) : re.match(r\"^<td>([^<]+).*\", str(country)).group(1) for code, country in codes2countries.items() }"
      ],
      "execution_count": null,
      "outputs": []
    },
    {
      "cell_type": "code",
      "metadata": {},
      "source": [
        "raw_data['country'] = raw_data['iso3c'].map(codes2countries)"
      ],
      "execution_count": null,
      "outputs": []
    },
    {
      "cell_type": "markdown",
      "metadata": {},
      "source": [
        "There are many variables, so I may as well pick a few to examine."
      ]
    },
    {
      "cell_type": "code",
      "metadata": {},
      "source": [
        "len(set(raw_data['label']))"
      ],
      "execution_count": null,
      "outputs": []
    },
    {
      "cell_type": "markdown",
      "metadata": {},
      "source": [
        "It seems the dataset is full of implicit NA: missing country-year combinations"
      ]
    },
    {
      "cell_type": "code",
      "metadata": {},
      "source": [
        "raw_data.value_counts(['year', 'country']).value_counts()"
      ],
      "execution_count": null,
      "outputs": []
    },
    {
      "cell_type": "markdown",
      "metadata": {},
      "source": [
        "Arbitrarily, I pick variables related to ships."
      ]
    },
    {
      "cell_type": "code",
      "metadata": {},
      "source": [
        "ship_data = raw_data.loc[(raw_data['label'].apply(lambda x: \"ship\" in x))]"
      ],
      "execution_count": null,
      "outputs": []
    },
    {
      "cell_type": "markdown",
      "metadata": {},
      "source": [
        "I compute yearly totals and averages for each variable."
      ]
    },
    {
      "cell_type": "code",
      "metadata": {},
      "source": [
        "list(set(ship_data['label']))\n",
        "\n",
        "ship_data_by_year = ship_data.groupby([ 'year', 'variable' ]).agg( \n",
        "total = pd.NamedAgg(column =  'value', aggfunc = 'sum'),\n",
        "average = pd.NamedAgg(column = 'value', aggfunc = 'mean')\n",
        ").reindex()"
      ],
      "execution_count": null,
      "outputs": []
    },
    {
      "cell_type": "markdown",
      "metadata": {},
      "source": [
        "A plot shows the numbers of different types of ships over time. The replacement \n",
        "of sail by steam power is obvious."
      ]
    },
    {
      "cell_type": "code",
      "metadata": {},
      "source": [
        "ship_counts = ship_data_by_year.loc[(ship_data_by_year.index.get_level_values(1).str.contains('ship_'))]\n",
        "ship_counts = ship_counts.reset_index()\n",
        "ship_counts['variable'] = pd.Categorical(ship_counts['variable'])\n",
        "fig, ax = plt.subplots()\n",
        "ship_counts.groupby( 'variable').plot(x = 'year', y =  'total', title = 'Total Ships in Service by Type and Year', kind = 'line', ax = ax)\n",
        "ax.legend(sorted([re.sub(\"ship_\", \"\", ship) for ship in ship_counts['variable'].unique()]))\n",
        "plt.show()"
      ],
      "execution_count": null,
      "outputs": []
    },
    {
      "cell_type": "markdown",
      "metadata": {},
      "source": [
        "Pivoting the columns produces a lot of `NaN`, as \n",
        "we'd expect from these variables in a dataset stretching back to the 1950s - no one collected data on air transport back then, obviously."
      ]
    },
    {
      "cell_type": "code",
      "metadata": {},
      "source": [
        "labels = [ \n",
        "    'Air transport, passengers carried',\n",
        "    'Gross output of electric energy (TWH)',\n",
        "    'Patent applications, residents',\n",
        "    'Steel production in thousand metric tons',\n",
        "    'Passenger cars (BTS)'\n",
        "]\n",
        "variables = raw_data.loc[(raw_data['label'].isin(labels)), 'variable'].unique()\n",
        "data_pivoted = raw_data.loc[raw_data['variable'].isin(variables)].pivot(values = 'value', columns = 'variable', index = ['country', 'year']).reset_index().fillna(0)"
      ],
      "execution_count": null,
      "outputs": []
    },
    {
      "cell_type": "markdown",
      "metadata": {},
      "source": [
        "The coefficients are hard to interpret because the variables are on totally different scales."
      ]
    },
    {
      "cell_type": "code",
      "metadata": {},
      "source": [
        "fit = LinearRegression().fit(data_pivoted[['elecprod', 'patents', 'steel_production', 'vehicle_car_bts']], data_pivoted['aviation_pass'])\n",
        "fit.coef_"
      ],
      "execution_count": null,
      "outputs": []
    },
    {
      "cell_type": "markdown",
      "metadata": {},
      "source": [
        "Let's fix that. Now each coefficient is the estimated average change in standard deviations of $Y$ given an increase of one standard deviation in $X_i$. That makes electricity production the strongest predictor, which makes sense.\n",
        "The intercept is surprisingly large, given that it mathematically should be 0."
      ]
    },
    {
      "cell_type": "code",
      "metadata": {},
      "source": [
        "data_pivoted = pd.DataFrame(MinMaxScaler().fit_transform(data_pivoted[variables]), columns = variables)\n",
        "fit = LinearRegression().fit(data_pivoted[['elecprod', 'patents', 'steel_production', 'vehicle_car_bts']], data_pivoted['aviation_pass'])\n",
        "fit.coef_\n",
        "fit.intercept_"
      ],
      "execution_count": null,
      "outputs": []
    },
    {
      "cell_type": "markdown",
      "metadata": {},
      "source": [
        "I'll conclude with a plot of fertilizer use per irrigated land area by country"
      ]
    },
    {
      "cell_type": "code",
      "metadata": {},
      "source": [
        "fertilizer_data = raw_data.loc[( raw_data['label'].isin(['Aggregate kg of fertilizer consumed', 'Area equipped to provide water to crops' ])) & (raw_data['year'] >= 2015)].pivot(index = ['year', 'country'], columns = 'variable', values = 'value') \n",
        "fertilizer_data = fertilizer_data[~(fertilizer_data['fert_total'].isnull() | fertilizer_data['irrigatedarea'].isnull())]\n",
        "fertilizer_data['fertilizer_per_area'] = fertilizer_data['fert_total'] / fertilizer_data['irrigatedarea']\n",
        "fertilizer_data = fertilizer_data.reset_index()"
      ],
      "execution_count": null,
      "outputs": []
    },
    {
      "cell_type": "markdown",
      "metadata": {},
      "source": [
        "A pie chart is arguably misleading here, since the per-country values don't \n",
        "add up to anything significant. "
      ]
    },
    {
      "cell_type": "code",
      "metadata": {},
      "source": [
        "country_averages = fertilizer_data[['country', 'year', 'fertilizer_per_area']].groupby(['country'], as_index = False).agg({ 'fertilizer_per_area' : ['mean'] }).reset_index()\n",
        "country_averages.columns = ['variable', 'country', 'fertilizer_per_area']\n",
        "del country_averages['variable']\n",
        "\n",
        "top_10 = sorted(country_averages['fertilizer_per_area'])[-10:]\n",
        "others_combined = country_averages.loc[~( country_averages['fertilizer_per_area'].isin(top_10) )][ 'fertilizer_per_area' ].mean()\n",
        "plot_data = country_averages.loc[( country_averages['fertilizer_per_area'].isin(top_10))]\n",
        "plot_data = pd.concat([plot_data, pd.DataFrame({'variable' : [ np.NaN ], 'country' : [ 'All others' ] , 'fertilizer_per_area' : [ others_combined ]})]).reset_index()\n",
        "plot_data.index = plot_data['country']\n",
        "plot_data['country'][plot_data['country'].apply(lambda x: \"United Kingdom\" in x)] = \"United Kingdom\"\n",
        "plot_data.plot(kind = 'pie', x = 'country', y = 'fertilizer_per_area', xlabel = 'Country', ylabel = 'Fertilizer used per land area').legend(loc  = 'best')\n",
        "plt.legend(loc = 'lower center', bbox_to_anchor = (1.0, 0.4))\n",
        "plt.show()"
      ],
      "execution_count": null,
      "outputs": []
    }
  ],
  "metadata": {
    "kernelspec": {
      "name": "python3",
      "language": "python",
      "display_name": "Python 3"
    }
  },
  "nbformat": 4,
  "nbformat_minor": 4
}